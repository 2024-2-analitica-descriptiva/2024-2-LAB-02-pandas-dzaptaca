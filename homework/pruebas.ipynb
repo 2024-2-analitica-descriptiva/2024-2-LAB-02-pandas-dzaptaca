{
 "cells": [
  {
   "cell_type": "code",
   "execution_count": 5,
   "metadata": {},
   "outputs": [
    {
     "name": "stdout",
     "output_type": "stream",
     "text": [
      "40\n"
     ]
    }
   ],
   "source": [
    "import pandas as pd\n",
    "x = pd.read_csv(\"../files/input/tbl0.tsv\", sep=\"\\t\") \n",
    "def pregunta_01():\n",
    "    return(x.shape[0])\n",
    "if __name__ == \"__main__\":\n",
    "    print(pregunta_01())"
   ]
  },
  {
   "cell_type": "code",
   "execution_count": 9,
   "metadata": {},
   "outputs": [
    {
     "name": "stdout",
     "output_type": "stream",
     "text": [
      "c1\n",
      "A     8\n",
      "B     7\n",
      "C     5\n",
      "D     6\n",
      "E    14\n",
      "dtype: int64\n"
     ]
    }
   ],
   "source": [
    "import pandas as pd\n",
    "x = pd.read_csv(\"../files/input/tbl0.tsv\", sep=\"\\t\") \n",
    "def pregunta_03():\n",
    "    return(x.groupby('c1').size().sort_index())\n",
    "if __name__ == \"__main__\":\n",
    "    print(pregunta_03())"
   ]
  },
  {
   "cell_type": "code",
   "execution_count": 10,
   "metadata": {},
   "outputs": [
    {
     "name": "stdout",
     "output_type": "stream",
     "text": [
      "c1\n",
      "A    4.625000\n",
      "B    5.142857\n",
      "C    5.400000\n",
      "D    3.833333\n",
      "E    4.785714\n",
      "Name: c2, dtype: float64\n"
     ]
    }
   ],
   "source": [
    "import pandas as pd\n",
    "x = pd.read_csv(\"../files/input/tbl0.tsv\", sep=\"\\t\") \n",
    "def pregunta_04():\n",
    "    return(x.groupby('c1')['c2'].mean())\n",
    "if __name__ == \"__main__\":\n",
    "    print(pregunta_04())"
   ]
  },
  {
   "cell_type": "code",
   "execution_count": 19,
   "metadata": {},
   "outputs": [
    {
     "name": "stdout",
     "output_type": "stream",
     "text": [
      "    c0 c1  c2          c3  year\n",
      "0    0  E   1  1999-02-28  1999\n",
      "1    1  A   2  1999-10-28  1999\n",
      "2    2  B   5  1998-05-02  1998\n",
      "3    3  A   3  1999-08-28  1999\n",
      "4    4  C   6  1999-12-01  1999\n",
      "5    5  A   7  1998-07-28  1998\n",
      "6    6  A   9  1997-02-28  1997\n",
      "7    7  B   1  1999-05-10  1999\n",
      "8    8  E   2  1997-04-12  1997\n",
      "9    9  B   3  1999-11-23  1999\n",
      "10  10  C   7  1998-01-17  1998\n",
      "11  11  C   5  1998-12-28  1998\n",
      "12  12  D   3  1999-10-15  1999\n",
      "13  13  E   8  1998-11-01  1998\n",
      "14  14  B   9  1999-08-12  1999\n",
      "15  15  D   1  1997-12-01  1997\n",
      "16  16  E   3  1997-07-28  1997\n",
      "17  17  D   5  1998-08-12  1998\n",
      "18  18  E   8  1999-08-24  1999\n",
      "19  19  E   9  1998-01-23  1998\n",
      "20  20  E   7  1999-06-22  1999\n",
      "21  21  E   3  1999-04-24  1999\n",
      "22  22  D   5  1999-06-25  1999\n",
      "23  23  A   1  1999-08-25  1999\n",
      "24  24  E   4  1997-07-26  1997\n",
      "25  25  E   6  1997-09-24  1997\n",
      "26  26  A   8  1997-09-28  1997\n",
      "27  27  E   5  1999-06-22  1999\n",
      "28  28  A   6  1999-07-29  1999\n",
      "29  29  C   0  1999-08-22  1999\n",
      "30  30  A   1  1998-04-26  1998\n",
      "31  31  D   2  1998-02-24  1998\n",
      "32  32  E   5  1999-03-24  1999\n",
      "33  33  B   4  1998-03-23  1998\n",
      "34  34  B   6  1999-04-21  1999\n",
      "35  35  D   7  1999-02-29  1999\n",
      "36  36  B   8  1997-05-21  1997\n",
      "37  37  C   9  1997-07-22  1997\n",
      "38  38  E   1  1999-09-28  1999\n",
      "39  39  E   5  1998-01-26  1998\n"
     ]
    }
   ],
   "source": [
    "import pandas as pd\n",
    "x = pd.read_csv(\"../files/input/tbl0.tsv\", sep=\"\\t\") \n",
    "def pregunta_09():\n",
    "    x['year']=x['c3'].str.split('-').str[0]\n",
    "    return(x)\n",
    "if __name__ == \"__main__\":\n",
    "    print(pregunta_09())"
   ]
  },
  {
   "cell_type": "code",
   "execution_count": 21,
   "metadata": {},
   "outputs": [
    {
     "name": "stdout",
     "output_type": "stream",
     "text": [
      "  c1                           c2\n",
      "0  A              2:3:7:9:1:8:6:1\n",
      "1  B                5:1:3:9:4:6:8\n",
      "2  C                    6:7:5:0:9\n",
      "3  D                  3:1:5:5:2:7\n",
      "4  E  1:2:8:3:8:9:7:3:4:6:5:5:1:5\n"
     ]
    }
   ],
   "source": [
    "import pandas as pd\n",
    "x = pd.read_csv(\"../files/input/tbl0.tsv\", sep=\"\\t\") \n",
    "def pregunta_10():\n",
    "    x['c2'] = x['c2'].astype(str)\n",
    "    return(x.groupby('c1')['c2'].agg(':'.join).reset_index())\n",
    "if __name__ == \"__main__\":\n",
    "    print(pregunta_10())"
   ]
  },
  {
   "cell_type": "code",
   "execution_count": 23,
   "metadata": {},
   "outputs": [
    {
     "name": "stdout",
     "output_type": "stream",
     "text": [
      "    c0       c4\n",
      "0    0    b,g,f\n",
      "1    1    a,f,c\n",
      "2    2  f,e,a,c\n",
      "3    3      a,b\n",
      "4    4  f,g,d,a\n",
      "5    5      c,d\n",
      "6    6    g,d,a\n",
      "7    7      b,a\n",
      "8    8  d,e,a,f\n",
      "9    9  d,b,g,f\n",
      "10  10  d,c,f,b\n",
      "11  11  d,e,a,c\n",
      "12  12  g,e,f,b\n",
      "13  13      c,f\n",
      "14  14      d,b\n",
      "15  15      f,e\n",
      "16  16    e,b,f\n",
      "17  17      g,a\n",
      "18  18  e,c,f,a\n",
      "19  19      e,a\n",
      "20  20      e,f\n",
      "21  21    c,b,g\n",
      "22  22    c,f,a\n",
      "23  23    f,a,d\n",
      "24  24      c,d\n",
      "25  25    e,d,c\n",
      "26  26    a,e,f\n",
      "27  27    c,a,g\n",
      "28  28      f,e\n",
      "29  29  f,c,a,g\n",
      "30  30      b,f\n",
      "31  31      b,f\n",
      "32  32      a,c\n",
      "33  33    b,f,c\n",
      "34  34    f,a,e\n",
      "35  35      a,f\n",
      "36  36      c,a\n",
      "37  37  c,a,e,f\n",
      "38  38      e,d\n",
      "39  39    f,a,d\n"
     ]
    }
   ],
   "source": [
    "import pandas as pd\n",
    "x = pd.read_csv(\"../files/input/tbl1.tsv\", sep=\"\\t\") \n",
    "def pregunta_11():\n",
    "    x['c4'] = x['c4'].astype(str)\n",
    "    return(x.groupby('c0')['c4'].agg(','.join).reset_index())\n",
    "if __name__ == \"__main__\":\n",
    "    print(pregunta_11())"
   ]
  },
  {
   "cell_type": "code",
   "execution_count": 36,
   "metadata": {},
   "outputs": [
    {
     "name": "stdout",
     "output_type": "stream",
     "text": [
      "    c0                                   c5\n",
      "0    0        jjj:3,bbb:0,ddd:9,ggg:8,hhh:2\n",
      "1    1              ccc:2,ddd:0,aaa:3,hhh:9\n",
      "2    2              ddd:2,ggg:5,ccc:6,jjj:1\n",
      "3    3              hhh:9,iii:5,eee:7,bbb:1\n",
      "4    4              iii:6,ddd:5,eee:4,jjj:3\n",
      "5    5        bbb:2,hhh:0,ccc:4,fff:1,aaa:7\n",
      "6    6  aaa:5,fff:8,ddd:2,iii:0,jjj:7,ccc:1\n",
      "7    7                    fff:3,hhh:1,ddd:2\n",
      "8    8  eee:4,ccc:5,iii:9,fff:7,ggg:6,bbb:0\n",
      "9    9  bbb:7,jjj:9,fff:5,iii:4,ggg:2,eee:3\n",
      "10  10        hhh:6,eee:4,iii:0,fff:2,jjj:1\n",
      "11  11                    bbb:7,iii:6,ggg:9\n",
      "12  12        bbb:9,aaa:3,ccc:6,fff:4,eee:2\n",
      "13  13                    aaa:8,ddd:5,jjj:1\n",
      "14  14        ccc:0,jjj:6,fff:7,ddd:3,aaa:2\n",
      "15  15              ccc:0,eee:6,bbb:9,ddd:3\n",
      "16  16  bbb:6,iii:3,hhh:5,fff:4,ggg:9,ddd:2\n",
      "17  17                    hhh:4,jjj:5,ccc:9\n",
      "18  18                    ccc:1,iii:6,fff:9\n",
      "19  19                    bbb:9,aaa:3,fff:1\n",
      "20  20                    ddd:9,iii:2,aaa:4\n",
      "21  21                    ccc:5,fff:8,iii:7\n",
      "22  22                    eee:3,jjj:2,ddd:7\n",
      "23  23        jjj:1,ggg:0,ccc:7,ddd:9,bbb:3\n",
      "24  24  jjj:6,ccc:0,aaa:1,hhh:9,iii:7,ggg:8\n",
      "25  25  fff:3,eee:6,iii:4,bbb:7,ddd:0,ccc:1\n",
      "26  26                    fff:0,ddd:5,ccc:4\n",
      "27  27        ggg:6,hhh:3,ddd:9,ccc:0,jjj:7\n",
      "28  28        hhh:6,jjj:0,eee:5,iii:7,ccc:3\n",
      "29  29  eee:1,fff:4,aaa:2,ccc:7,ggg:0,ddd:6\n",
      "30  30        ccc:6,aaa:9,eee:5,ddd:0,bbb:3\n",
      "31  31  bbb:7,hhh:1,aaa:6,iii:4,fff:9,ddd:5\n",
      "32  32              fff:3,ccc:1,ggg:2,eee:5\n",
      "33  33  iii:7,ggg:3,ddd:0,jjj:8,hhh:5,ccc:1\n",
      "34  34        hhh:6,ccc:3,jjj:0,bbb:8,ddd:7\n",
      "35  35                    aaa:0,fff:5,ddd:3\n",
      "36  36        ddd:5,jjj:2,iii:7,ccc:0,bbb:4\n",
      "37  37                    eee:0,fff:2,hhh:6\n",
      "38  38                    fff:9,iii:2,eee:0\n",
      "39  39                    hhh:8,ggg:3,jjj:5\n"
     ]
    }
   ],
   "source": [
    "import pandas as pd\n",
    "x = pd.read_csv(\"../files/input/tbl2.tsv\", sep=\"\\t\") \n",
    "def pregunta_12():\n",
    "    x['c5b'] = x['c5b'].astype(str)\n",
    "    x['c5']=x['c5a']+\":\"+x['c5b']\n",
    "\n",
    "    return(x.groupby('c0')['c5'].agg(','.join).reset_index())\n",
    "if __name__ == \"__main__\":\n",
    "    print(pregunta_12())"
   ]
  },
  {
   "cell_type": "code",
   "execution_count": 37,
   "metadata": {},
   "outputs": [
    {
     "name": "stdout",
     "output_type": "stream",
     "text": [
      "     c0 c1  c2          c3  c5a  c5b\n",
      "0     0  E   1  1999-02-28  jjj    3\n",
      "1     0  E   1  1999-02-28  bbb    0\n",
      "2     0  E   1  1999-02-28  ddd    9\n",
      "3     0  E   1  1999-02-28  ggg    8\n",
      "4     0  E   1  1999-02-28  hhh    2\n",
      "..   .. ..  ..         ...  ...  ...\n",
      "170  38  E   1  1999-09-28  iii    2\n",
      "171  38  E   1  1999-09-28  eee    0\n",
      "172  39  E   5  1998-01-26  hhh    8\n",
      "173  39  E   5  1998-01-26  ggg    3\n",
      "174  39  E   5  1998-01-26  jjj    5\n",
      "\n",
      "[175 rows x 6 columns]\n"
     ]
    }
   ],
   "source": [
    "import pandas as pd\n",
    "x = pd.read_csv(\"../files/input/tbl0.tsv\", sep=\"\\t\") \n",
    "y = pd.read_csv(\"../files/input/tbl2.tsv\", sep=\"\\t\") \n",
    "def pregunta_13():\n",
    "    union = pd.merge(x, y, on='c0', how='inner')\n",
    "\n",
    "    return(union)\n",
    "if __name__ == \"__main__\":\n",
    "    print(pregunta_13())"
   ]
  },
  {
   "cell_type": "code",
   "execution_count": 41,
   "metadata": {},
   "outputs": [
    {
     "name": "stdout",
     "output_type": "stream",
     "text": [
      "c1\n",
      "A    146\n",
      "B    134\n",
      "C     81\n",
      "D    112\n",
      "E    275\n",
      "Name: c5b, dtype: int64\n"
     ]
    }
   ],
   "source": [
    "import pandas as pd\n",
    "x = pd.read_csv(\"../files/input/tbl0.tsv\", sep=\"\\t\") \n",
    "y = pd.read_csv(\"../files/input/tbl2.tsv\", sep=\"\\t\") \n",
    "def pregunta_13():\n",
    "    union = pd.merge(x, y, on='c0', how='inner')\n",
    "    return(union.groupby('c1')['c5b'].sum())\n",
    "if __name__ == \"__main__\":\n",
    "    print(pregunta_13())"
   ]
  },
  {
   "cell_type": "code",
   "execution_count": 42,
   "metadata": {},
   "outputs": [
    {
     "name": "stdout",
     "output_type": "stream",
     "text": [
      "40\n"
     ]
    }
   ],
   "source": [
    "import pandas as pd\n",
    "x = pd.read_csv(\"../files/input/tbl0.tsv\", sep=\"\\t\") \n",
    "def pregunta_01():\n",
    "    return(x.shape[0])\n",
    "if __name__ == \"__main__\":\n",
    "    print(pregunta_01())"
   ]
  },
  {
   "cell_type": "code",
   "execution_count": null,
   "metadata": {},
   "outputs": [
    {
     "name": "stdout",
     "output_type": "stream",
     "text": [
      "    c0 c1 c2          c3\n",
      "0    0  E  1  1999-02-28\n",
      "1    1  A  2  1999-10-28\n",
      "2    2  B  5  1998-05-02\n",
      "3    3  A  3  1999-08-28\n",
      "4    4  C  6  1999-12-01\n",
      "5    5  A  7  1998-07-28\n",
      "6    6  A  9  1997-02-28\n",
      "7    7  B  1  1999-05-10\n",
      "8    8  E  2  1997-04-12\n",
      "9    9  B  3  1999-11-23\n",
      "10  10  C  7  1998-01-17\n",
      "11  11  C  5  1998-12-28\n",
      "12  12  D  3  1999-10-15\n",
      "13  13  E  8  1998-11-01\n",
      "14  14  B  9  1999-08-12\n",
      "15  15  D  1  1997-12-01\n",
      "16  16  E  3  1997-07-28\n",
      "17  17  D  5  1998-08-12\n",
      "18  18  E  8  1999-08-24\n",
      "19  19  E  9  1998-01-23\n",
      "20  20  E  7  1999-06-22\n",
      "21  21  E  3  1999-04-24\n",
      "22  22  D  5  1999-06-25\n",
      "23  23  A  1  1999-08-25\n",
      "24  24  E  4  1997-07-26\n",
      "25  25  E  6  1997-09-24\n",
      "26  26  A  8  1997-09-28\n",
      "27  27  E  5  1999-06-22\n",
      "28  28  A  6  1999-07-29\n",
      "29  29  C  0  1999-08-22\n",
      "30  30  A  1  1998-04-26\n",
      "31  31  D  2  1998-02-24\n",
      "32  32  E  5  1999-03-24\n",
      "33  33  B  4  1998-03-23\n",
      "34  34  B  6  1999-04-21\n",
      "35  35  D  7  1999-02-29\n",
      "36  36  B  8  1997-05-21\n",
      "37  37  C  9  1997-07-22\n",
      "38  38  E  1  1999-09-28\n",
      "39  39  E  5  1998-01-26\n"
     ]
    }
   ],
   "source": [
    "import pandas as pd\n",
    "x = pd.read_csv(\"../files/input/tbl0.tsv\", sep=\"\\t\") \n",
    "def pregunta_10():\n",
    "    x['c2']=x['c2'].astype(str)\n",
    "    x.groupby('c1')['c2'].apply(lambda y: ':'.join(map(str, sorted(y)))).reset_index()\n",
    "    return(x)\n",
    "if __name__ == \"__main__\":\n",
    "    print(pregunta_10())\n",
    "\n",
    "    \"\"\"\n",
    "    Construya una tabla que contenga `c1` y una lista separada por ':' de los\n",
    "    valores de la columna `c2` para el archivo `tbl0.tsv`.\n",
    "\n",
    "    Rta/\n",
    "                                 c2\n",
    "    c1\n",
    "    A               1:1:2:3:6:7:8:9\n",
    "    B                 1:3:4:5:6:8:9\n",
    "    C                     0:5:6:7:9\n",
    "    D                   1:2:3:5:5:7\n",
    "    E   1:1:2:3:3:4:5:5:5:6:7:8:8:9\n",
    "    \"\"\""
   ]
  }
 ],
 "metadata": {
  "kernelspec": {
   "display_name": ".venv",
   "language": "python",
   "name": "python3"
  },
  "language_info": {
   "codemirror_mode": {
    "name": "ipython",
    "version": 3
   },
   "file_extension": ".py",
   "mimetype": "text/x-python",
   "name": "python",
   "nbconvert_exporter": "python",
   "pygments_lexer": "ipython3",
   "version": "3.10.9"
  }
 },
 "nbformat": 4,
 "nbformat_minor": 2
}
